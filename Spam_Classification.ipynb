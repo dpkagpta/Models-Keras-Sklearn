{
 "cells": [
  {
   "cell_type": "code",
   "execution_count": 1,
   "metadata": {},
   "outputs": [
    {
     "name": "stderr",
     "output_type": "stream",
     "text": [
      "[nltk_data] Downloading package wordnet to\n",
      "[nltk_data]     C:\\Users\\deepika\\AppData\\Roaming\\nltk_data...\n",
      "[nltk_data]   Package wordnet is already up-to-date!\n"
     ]
    },
    {
     "data": {
      "text/plain": [
       "True"
      ]
     },
     "execution_count": 1,
     "metadata": {},
     "output_type": "execute_result"
    }
   ],
   "source": [
    "# Importing the required libraries\n",
    "import numpy as np\n",
    "import pandas as pd\n",
    "from wordcloud import WordCloud\n",
    "import matplotlib.pyplot as plt\n",
    "import seaborn as sns\n",
    "import time\n",
    "import warnings\n",
    "import re\n",
    "import nltk\n",
    "import spacy\n",
    "import string\n",
    "from spacy.lang.en.stop_words import STOP_WORDS\n",
    "from nltk.stem import WordNetLemmatizer\n",
    "import torch\n",
    "from torch.utils.data import TensorDataset, DataLoader\n",
    "from torch import nn, optim\n",
    "import torchtext\n",
    "from torchtext import data\n",
    "import torch.nn.functional as F\n",
    "from torchtext.vocab import Vectors\n",
    "from sklearn.model_selection import train_test_split\n",
    "\n",
    "# The other libraries needed for optimised hyper-parameter tuning\n",
    "\n",
    "# from hyperopt import hp, Trials, fmin, tpe, STATUS_OK\n",
    "# from ignite.engine import Engine, Events\n",
    "# from torch.utils.data import Dataset, DataLoader\n",
    "# from nltk.stem import WordNetLemmatizer\n",
    "# from ignite.metrics import Accuracy, Precision, Recall, ConfusionMatrix, Loss\n",
    "# from ignite.contrib.handlers import ProgressBar\n",
    "# from ignite.handlers import EarlyStopping, ModelCheckpoint\n",
    "\n",
    "pd.options.mode.chained_assignment = None\n",
    "warnings.filterwarnings('ignore')\n",
    "nltk.download('wordnet')"
   ]
  },
  {
   "cell_type": "code",
   "execution_count": 2,
   "metadata": {},
   "outputs": [
    {
     "name": "stdout",
     "output_type": "stream",
     "text": [
      "Device:  cuda\n"
     ]
    }
   ],
   "source": [
    "# Loading the required varibales and creating some varibales to make the results reproducible\n",
    "nlp = spacy.load(\"en_core_web_sm\")\n",
    "PUNCT_TO_REMOVE = string.punctuation\n",
    "lemmatizer = WordNetLemmatizer()\n",
    "\n",
    "# First checking if GPU is available\n",
    "device = torch.device('cuda' if torch.cuda.is_available() else 'cpu')\n",
    "print('Device: ', device)"
   ]
  },
  {
   "cell_type": "code",
   "execution_count": 3,
   "metadata": {},
   "outputs": [
    {
     "name": "stdout",
     "output_type": "stream",
     "text": [
      "Shape before removing duplicates:  (5572, 2)\n",
      "Shape after removing duplicates:  (5169, 2)\n",
      "Shape after removing null values:  (5169, 2)\n"
     ]
    }
   ],
   "source": [
    "# reading the dataset\n",
    "df = pd.read_csv('smsspamcollection.txt', sep='\\t', names=['category', 'text'])\n",
    "\n",
    "print('Shape before removing duplicates: ', df.shape)\n",
    "df = df.drop_duplicates()\n",
    "print('Shape after removing duplicates: ', df.shape)\n",
    "df = df.dropna()\n",
    "print('Shape after removing null values: ', df.shape)"
   ]
  },
  {
   "cell_type": "code",
   "execution_count": 4,
   "metadata": {},
   "outputs": [
    {
     "data": {
      "text/html": [
       "<div>\n",
       "<style scoped>\n",
       "    .dataframe tbody tr th:only-of-type {\n",
       "        vertical-align: middle;\n",
       "    }\n",
       "\n",
       "    .dataframe tbody tr th {\n",
       "        vertical-align: top;\n",
       "    }\n",
       "\n",
       "    .dataframe thead th {\n",
       "        text-align: right;\n",
       "    }\n",
       "</style>\n",
       "<table border=\"1\" class=\"dataframe\">\n",
       "  <thead>\n",
       "    <tr style=\"text-align: right;\">\n",
       "      <th></th>\n",
       "      <th>category</th>\n",
       "      <th>text</th>\n",
       "    </tr>\n",
       "  </thead>\n",
       "  <tbody>\n",
       "    <tr>\n",
       "      <th>count</th>\n",
       "      <td>5169</td>\n",
       "      <td>5169</td>\n",
       "    </tr>\n",
       "    <tr>\n",
       "      <th>unique</th>\n",
       "      <td>2</td>\n",
       "      <td>5169</td>\n",
       "    </tr>\n",
       "    <tr>\n",
       "      <th>top</th>\n",
       "      <td>ham</td>\n",
       "      <td>i felt so...not any conveying reason.. Ese he....</td>\n",
       "    </tr>\n",
       "    <tr>\n",
       "      <th>freq</th>\n",
       "      <td>4516</td>\n",
       "      <td>1</td>\n",
       "    </tr>\n",
       "  </tbody>\n",
       "</table>\n",
       "</div>"
      ],
      "text/plain": [
       "       category                                               text\n",
       "count      5169                                               5169\n",
       "unique        2                                               5169\n",
       "top         ham  i felt so...not any conveying reason.. Ese he....\n",
       "freq       4516                                                  1"
      ]
     },
     "execution_count": 4,
     "metadata": {},
     "output_type": "execute_result"
    }
   ],
   "source": [
    "# Let's look at the summary statistics of the dataset\n",
    "df.describe()"
   ]
  },
  {
   "cell_type": "markdown",
   "metadata": {},
   "source": [
    "## Text preprocessing\n"
   ]
  },
  {
   "cell_type": "code",
   "execution_count": 5,
   "metadata": {},
   "outputs": [],
   "source": [
    "# Lower casing the words\n",
    "df['text'] = df['text'].str.lower()\n",
    "\n",
    "# removing punctuation marks\n",
    "def remove_punctuation(text):\n",
    "    \"\"\"custom function to remove the punctuation\"\"\"\n",
    "    return text.translate(str.maketrans('', '', PUNCT_TO_REMOVE))\n",
    "df[\"text\"] = df[\"text\"].apply(lambda text: remove_punctuation(text))\n",
    "\n",
    "\n",
    "# Removing stopwords\n",
    "def remove_stopwords(text):\n",
    "    \"\"\"custom function to remove the stopwords\"\"\"\n",
    "    return \" \".join([word for word in str(text).split() if word not in STOP_WORDS])\n",
    "df[\"text\"] = df[\"text\"].apply(lambda text: remove_stopwords(text))\n",
    "\n",
    "        \n",
    "# Lemmatizing the text data\n",
    "def lemmatize_words(text):\n",
    "    return \" \".join([lemmatizer.lemmatize(word) for word in text.split()])\n",
    "df[\"text\"] = df[\"text\"].apply(lambda text: lemmatize_words(text))\n",
    "\n",
    "# to clean data\n",
    "def normalise_text (text):\n",
    "    text = text.str.lower() # lowercase\n",
    "    text = text.str.replace(r\"\\#\",\"\") # replaces hashtags\n",
    "    text = text.str.replace(r\"http\\S+\",\"URL\")  # remove URL addresses\n",
    "    text = text.str.replace(r\"@\",\"\")\n",
    "    text = text.str.replace(r\"[^A-Za-z0-9()!?\\'\\`\\\"]\", \" \")\n",
    "    text = text.str.replace(\"\\s{2,}\", \" \")\n",
    "    return text\n",
    "\n",
    "df[\"text\"] = normalise_text(df[\"text\"])"
   ]
  },
  {
   "cell_type": "code",
   "execution_count": 6,
   "metadata": {},
   "outputs": [
    {
     "name": "stdout",
     "output_type": "stream",
     "text": [
      "Shape of the preprossed dataset:  (5169, 2)\n",
      "Shape after removing duplicates from the preprossed dataset:  (5094, 2)\n",
      "Shape after removing datapoints with empty text:  (5093, 2)\n"
     ]
    }
   ],
   "source": [
    "# we can also remove frquent occurent and least frequent words\n",
    "print('Shape of the preprossed dataset: ', df.shape)\n",
    "\n",
    "df = df.drop_duplicates()\n",
    "print('Shape after removing duplicates from the preprossed dataset: ', df.shape)\n",
    "df = df[df['text'] != \"\"]\n",
    "print('Shape after removing datapoints with empty text: ', df.shape)"
   ]
  },
  {
   "cell_type": "code",
   "execution_count": 7,
   "metadata": {},
   "outputs": [
    {
     "data": {
      "text/html": [
       "<div>\n",
       "<style scoped>\n",
       "    .dataframe tbody tr th:only-of-type {\n",
       "        vertical-align: middle;\n",
       "    }\n",
       "\n",
       "    .dataframe tbody tr th {\n",
       "        vertical-align: top;\n",
       "    }\n",
       "\n",
       "    .dataframe thead th {\n",
       "        text-align: right;\n",
       "    }\n",
       "</style>\n",
       "<table border=\"1\" class=\"dataframe\">\n",
       "  <thead>\n",
       "    <tr style=\"text-align: right;\">\n",
       "      <th></th>\n",
       "      <th>category</th>\n",
       "      <th>text</th>\n",
       "    </tr>\n",
       "  </thead>\n",
       "  <tbody>\n",
       "    <tr>\n",
       "      <th>0</th>\n",
       "      <td>ham</td>\n",
       "      <td>jurong point crazy available bugis n great wor...</td>\n",
       "    </tr>\n",
       "    <tr>\n",
       "      <th>1</th>\n",
       "      <td>ham</td>\n",
       "      <td>ok lar joking wif u oni</td>\n",
       "    </tr>\n",
       "    <tr>\n",
       "      <th>2</th>\n",
       "      <td>spam</td>\n",
       "      <td>free entry 2 wkly comp win fa cup final tkts 2...</td>\n",
       "    </tr>\n",
       "    <tr>\n",
       "      <th>3</th>\n",
       "      <td>ham</td>\n",
       "      <td>u dun early hor u c</td>\n",
       "    </tr>\n",
       "    <tr>\n",
       "      <th>4</th>\n",
       "      <td>ham</td>\n",
       "      <td>nah dont think go usf life</td>\n",
       "    </tr>\n",
       "  </tbody>\n",
       "</table>\n",
       "</div>"
      ],
      "text/plain": [
       "  category                                               text\n",
       "0      ham  jurong point crazy available bugis n great wor...\n",
       "1      ham                            ok lar joking wif u oni\n",
       "2     spam  free entry 2 wkly comp win fa cup final tkts 2...\n",
       "3      ham                                u dun early hor u c\n",
       "4      ham                         nah dont think go usf life"
      ]
     },
     "execution_count": 7,
     "metadata": {},
     "output_type": "execute_result"
    }
   ],
   "source": [
    "df.head()"
   ]
  },
  {
   "cell_type": "markdown",
   "metadata": {},
   "source": [
    "Note: We could use more steps in preprocessing such as:\n",
    "1. We could remove the most frequent and least frequent words\n",
    "2. We could put all the text through a spelling checker library\n",
    "3. We could remove numbers and HTML tags from the dataset, if any"
   ]
  },
  {
   "cell_type": "markdown",
   "metadata": {},
   "source": [
    "## Exploratory Data Analysis"
   ]
  },
  {
   "cell_type": "code",
   "execution_count": 8,
   "metadata": {},
   "outputs": [
    {
     "data": {
      "image/png": "[encoded data removed]",
      "text/plain": [
       "<Figure size 432x288 with 1 Axes>"
      ]
     },
     "metadata": {
      "needs_background": "light"
     },
     "output_type": "display_data"
    }
   ],
   "source": [
    "# Let's create different dataframes for both the categories\n",
    "ham_df = df[df['category'] == 'ham']\n",
    "spam_df = df[df['category'] == 'spam']\n",
    "\n",
    "# Create a wordcloud for the above dataframes\n",
    "wordcloud = WordCloud(\n",
    "                          background_color='white',\n",
    "                          stopwords=STOP_WORDS,\n",
    "                          max_words=200,\n",
    "                          max_font_size=40, \n",
    "                          random_state=42\n",
    "                         ).generate(str(ham_df['text']))\n",
    "\n",
    "\n",
    "fig = plt.figure()\n",
    "plt.imshow(wordcloud)\n",
    "plt.axis('off')\n",
    "plt.title('Wordcloud for Ham Dataset')\n",
    "\n",
    "plt.show()"
   ]
  },
  {
   "cell_type": "code",
   "execution_count": 9,
   "metadata": {},
   "outputs": [
    {
     "data": {
      "image/png": "[encoded data removed]",
      "text/plain": [
       "<Figure size 432x288 with 1 Axes>"
      ]
     },
     "metadata": {
      "needs_background": "light"
     },
     "output_type": "display_data"
    }
   ],
   "source": [
    "# Create a wordcloud for the above dataframes\n",
    "wordcloud = WordCloud(\n",
    "                          background_color='white',\n",
    "                          stopwords=STOP_WORDS,\n",
    "                          max_words=200,\n",
    "                          max_font_size=40, \n",
    "                          random_state=42\n",
    "                         ).generate(str(spam_df['text']))\n",
    "\n",
    "\n",
    "fig = plt.figure()\n",
    "plt.imshow(wordcloud)\n",
    "plt.axis('off')\n",
    "plt.title('Wordcloud for Spam Dataset')\n",
    "\n",
    "plt.show()"
   ]
  },
  {
   "cell_type": "markdown",
   "metadata": {},
   "source": [
    "we can see the most frequent words occurring the spam and ham dataset"
   ]
  },
  {
   "cell_type": "code",
   "execution_count": 10,
   "metadata": {},
   "outputs": [
    {
     "data": {
      "text/html": [
       "<div>\n",
       "<style scoped>\n",
       "    .dataframe tbody tr th:only-of-type {\n",
       "        vertical-align: middle;\n",
       "    }\n",
       "\n",
       "    .dataframe tbody tr th {\n",
       "        vertical-align: top;\n",
       "    }\n",
       "\n",
       "    .dataframe thead tr th {\n",
       "        text-align: left;\n",
       "    }\n",
       "</style>\n",
       "<table border=\"1\" class=\"dataframe\">\n",
       "  <thead>\n",
       "    <tr>\n",
       "      <th></th>\n",
       "      <th>category</th>\n",
       "      <th colspan=\"4\" halign=\"left\">text</th>\n",
       "    </tr>\n",
       "    <tr>\n",
       "      <th></th>\n",
       "      <th></th>\n",
       "      <th>count</th>\n",
       "      <th>unique</th>\n",
       "      <th>top</th>\n",
       "      <th>freq</th>\n",
       "    </tr>\n",
       "  </thead>\n",
       "  <tbody>\n",
       "    <tr>\n",
       "      <th>0</th>\n",
       "      <td>ham</td>\n",
       "      <td>4464</td>\n",
       "      <td>4464</td>\n",
       "      <td>ya telling abt tht incident</td>\n",
       "      <td>1</td>\n",
       "    </tr>\n",
       "    <tr>\n",
       "      <th>1</th>\n",
       "      <td>spam</td>\n",
       "      <td>629</td>\n",
       "      <td>629</td>\n",
       "      <td>07732584351 rodger burn msg tried reply sm fre...</td>\n",
       "      <td>1</td>\n",
       "    </tr>\n",
       "  </tbody>\n",
       "</table>\n",
       "</div>"
      ],
      "text/plain": [
       "  category  text                                                            \\\n",
       "           count unique                                                top   \n",
       "0      ham  4464   4464                        ya telling abt tht incident   \n",
       "1     spam   629    629  07732584351 rodger burn msg tried reply sm fre...   \n",
       "\n",
       "        \n",
       "  freq  \n",
       "0    1  \n",
       "1    1  "
      ]
     },
     "execution_count": 10,
     "metadata": {},
     "output_type": "execute_result"
    }
   ],
   "source": [
    "# Let's look at the statistics in terms of the category\n",
    "df.groupby('category').describe().reset_index()"
   ]
  },
  {
   "cell_type": "code",
   "execution_count": 11,
   "metadata": {},
   "outputs": [
    {
     "data": {
      "text/plain": [
       "<matplotlib.axes._subplots.AxesSubplot at 0x1e1b63b8f10>"
      ]
     },
     "execution_count": 11,
     "metadata": {},
     "output_type": "execute_result"
    },
    {
     "data": {
      "image/png": "[encoded data removed]",
      "text/plain": [
       "<Figure size 432x288 with 1 Axes>"
      ]
     },
     "metadata": {
      "needs_background": "light"
     },
     "output_type": "display_data"
    }
   ],
   "source": [
    "sns.countplot(df.category)"
   ]
  },
  {
   "cell_type": "markdown",
   "metadata": {},
   "source": [
    "###### Looks like we have a highly unbalanced dataset\n",
    "\n",
    "For highly unbalanced datasets we ususally apply any three procedures:\n",
    "1. Undersampling: We reduce the number of datapoints of the dominant category equal to the number of the smaller category\n",
    "2. Oversampling:\n",
    "3. Synthetic Minority Oversampling Technique"
   ]
  },
  {
   "cell_type": "markdown",
   "metadata": {},
   "source": [
    "## Encoding the dataset"
   ]
  },
  {
   "cell_type": "code",
   "execution_count": 12,
   "metadata": {},
   "outputs": [],
   "source": [
    "# Encoding the category column to binary\n",
    "df['category'] = df['category'].map({'spam': 1, 'ham': 0})\n",
    "\n",
    "# split data into train and validation \n",
    "train_df, valid_df = train_test_split(df)\n",
    "\n",
    "def tokenizer(text): # create a tokenizer function\n",
    "    \"\"\" A function for tokenization\"\"\"\n",
    "    return [tok.text for tok in nlp.tokenizer(text)]\n",
    "\n",
    "TEXT = data.Field(tokenize = tokenizer)\n",
    "LABEL = data.LabelField(dtype = torch.float)"
   ]
  },
  {
   "cell_type": "code",
   "execution_count": 13,
   "metadata": {},
   "outputs": [
    {
     "data": {
      "text/html": [
       "<div>\n",
       "<style scoped>\n",
       "    .dataframe tbody tr th:only-of-type {\n",
       "        vertical-align: middle;\n",
       "    }\n",
       "\n",
       "    .dataframe tbody tr th {\n",
       "        vertical-align: top;\n",
       "    }\n",
       "\n",
       "    .dataframe thead th {\n",
       "        text-align: right;\n",
       "    }\n",
       "</style>\n",
       "<table border=\"1\" class=\"dataframe\">\n",
       "  <thead>\n",
       "    <tr style=\"text-align: right;\">\n",
       "      <th></th>\n",
       "      <th>category</th>\n",
       "      <th>text</th>\n",
       "    </tr>\n",
       "  </thead>\n",
       "  <tbody>\n",
       "    <tr>\n",
       "      <th>0</th>\n",
       "      <td>0</td>\n",
       "      <td>jurong point crazy available bugis n great wor...</td>\n",
       "    </tr>\n",
       "    <tr>\n",
       "      <th>1</th>\n",
       "      <td>0</td>\n",
       "      <td>ok lar joking wif u oni</td>\n",
       "    </tr>\n",
       "    <tr>\n",
       "      <th>2</th>\n",
       "      <td>1</td>\n",
       "      <td>free entry 2 wkly comp win fa cup final tkts 2...</td>\n",
       "    </tr>\n",
       "    <tr>\n",
       "      <th>3</th>\n",
       "      <td>0</td>\n",
       "      <td>u dun early hor u c</td>\n",
       "    </tr>\n",
       "    <tr>\n",
       "      <th>4</th>\n",
       "      <td>0</td>\n",
       "      <td>nah dont think go usf life</td>\n",
       "    </tr>\n",
       "  </tbody>\n",
       "</table>\n",
       "</div>"
      ],
      "text/plain": [
       "   category                                               text\n",
       "0         0  jurong point crazy available bugis n great wor...\n",
       "1         0                            ok lar joking wif u oni\n",
       "2         1  free entry 2 wkly comp win fa cup final tkts 2...\n",
       "3         0                                u dun early hor u c\n",
       "4         0                         nah dont think go usf life"
      ]
     },
     "execution_count": 13,
     "metadata": {},
     "output_type": "execute_result"
    }
   ],
   "source": [
    "df.head()"
   ]
  },
  {
   "cell_type": "code",
   "execution_count": 14,
   "metadata": {},
   "outputs": [],
   "source": [
    "TEXT = data.Field(tokenize = tokenizer, include_lengths = True)\n",
    "LABEL = data.LabelField(dtype = torch.float)"
   ]
  },
  {
   "cell_type": "code",
   "execution_count": 15,
   "metadata": {},
   "outputs": [],
   "source": [
    "class DataFrameDataset(data.Dataset):\n",
    "\n",
    "    def __init__(self, df, fields, is_test=False, **kwargs):\n",
    "        examples = []\n",
    "        for i, row in df.iterrows():\n",
    "            label = row.category if not is_test else None\n",
    "            text = row.text\n",
    "            examples.append(data.Example.fromlist([text, label], fields))\n",
    "\n",
    "        super().__init__(examples, fields, **kwargs)\n",
    "\n",
    "    @staticmethod\n",
    "    def sort_key(ex):\n",
    "        return len(ex.text)\n",
    "\n",
    "    @classmethod\n",
    "    def splits(cls, fields, train_df, val_df=None, test_df=None, **kwargs):\n",
    "        train_data, val_data, test_data = (None, None, None)\n",
    "        data_field = fields\n",
    "\n",
    "        if train_df is not None:\n",
    "            train_data = cls(train_df.copy(), data_field, **kwargs)\n",
    "        if val_df is not None:\n",
    "            val_data = cls(val_df.copy(), data_field, **kwargs)\n",
    "        if test_df is not None:\n",
    "            test_data = cls(test_df.copy(), data_field, True, **kwargs)\n",
    "\n",
    "        return tuple(d for d in (train_data, val_data, test_data) if d is not None)"
   ]
  },
  {
   "cell_type": "code",
   "execution_count": 16,
   "metadata": {},
   "outputs": [
    {
     "name": "stdout",
     "output_type": "stream",
     "text": [
      "{'text': ['everybody', 'fun', 'evening', 'miss'], 'category': 0}\n",
      "<class 'torchtext.data.example.Example'>\n"
     ]
    }
   ],
   "source": [
    "# creating torchtext fields\n",
    "fields = [('text',TEXT), ('category',LABEL)]\n",
    "\n",
    "# Making tabular datasets\n",
    "train_ds, val_ds = DataFrameDataset.splits(fields, train_df=train_df, val_df=valid_df)\n",
    "\n",
    "# Lets look at a random example\n",
    "print(vars(train_ds[15]))\n",
    "# Check the type \n",
    "print(type(train_ds[15]))"
   ]
  },
  {
   "cell_type": "markdown",
   "metadata": {},
   "source": [
    "## Modelling"
   ]
  },
  {
   "cell_type": "code",
   "execution_count": 17,
   "metadata": {},
   "outputs": [],
   "source": [
    "# Building vocab for text and categories\n",
    "MAX_VOCAB_SIZE = 20000\n",
    "\n",
    "TEXT.build_vocab(train_ds, \n",
    "                 max_size = MAX_VOCAB_SIZE, \n",
    "                 vectors = 'glove.6B.100d',\n",
    "                 unk_init = torch.Tensor.zero_)\n",
    "\n",
    "LABEL.build_vocab(train_ds)"
   ]
  },
  {
   "cell_type": "code",
   "execution_count": 18,
   "metadata": {},
   "outputs": [],
   "source": [
    "# Creating training and validation iterators with batch_sizes \n",
    "BATCH_SIZE = 16\n",
    "\n",
    "train_iter, valid_iter = data.BucketIterator.splits(\n",
    "    (train_ds, val_ds), \n",
    "    batch_size = BATCH_SIZE,\n",
    "    sort_within_batch = True,\n",
    "    device = device)"
   ]
  },
  {
   "cell_type": "code",
   "execution_count": 19,
   "metadata": {},
   "outputs": [],
   "source": [
    "num_epochs = 25\n",
    "learning_rate = 0.001\n",
    "\n",
    "INPUT_DIM = len(TEXT.vocab)\n",
    "EMBEDDING_DIM = 100\n",
    "HIDDEN_DIM = 256\n",
    "OUTPUT_DIM = 1\n",
    "N_LAYERS = 2\n",
    "BIDIRECTIONAL = True\n",
    "DROPOUT = 0.2\n",
    "# padding\n",
    "PAD_IDX = TEXT.vocab.stoi[TEXT.pad_token] "
   ]
  },
  {
   "cell_type": "code",
   "execution_count": 20,
   "metadata": {},
   "outputs": [],
   "source": [
    "class LSTM_net(nn.Module):\n",
    "    def __init__(self, vocab_size, embedding_dim, hidden_dim, output_dim, n_layers, \n",
    "                 bidirectional, dropout, pad_idx):\n",
    "        \n",
    "        super().__init__()\n",
    "        \n",
    "        self.embedding = nn.Embedding(vocab_size, embedding_dim, padding_idx = pad_idx)\n",
    "        \n",
    "        self.rnn = nn.LSTM(embedding_dim, \n",
    "                           hidden_dim, \n",
    "                           num_layers=n_layers, \n",
    "                           bidirectional=bidirectional, \n",
    "                           dropout=dropout)\n",
    "        \n",
    "        self.fc1 = nn.Linear(hidden_dim * 2, hidden_dim)\n",
    "        \n",
    "        self.fc2 = nn.Linear(hidden_dim, 1)\n",
    "        \n",
    "        self.dropout = nn.Dropout(dropout)\n",
    "        \n",
    "    def forward(self, text, text_lengths):\n",
    "        \n",
    "        embedded = self.embedding(text)\n",
    "        \n",
    "        #pack sequence\n",
    "        packed_embedded = nn.utils.rnn.pack_padded_sequence(embedded, text_lengths)       \n",
    "        packed_output, (hidden, cell) = self.rnn(packed_embedded)\n",
    "        \n",
    "        hidden = self.dropout(torch.cat((hidden[-2,:,:], hidden[-1,:,:]), dim = 1))\n",
    "        output = self.fc1(hidden)\n",
    "        output = self.dropout(self.fc2(output))\n",
    "            \n",
    "        return output"
   ]
  },
  {
   "cell_type": "code",
   "execution_count": 21,
   "metadata": {},
   "outputs": [],
   "source": [
    "# creating instance of our LSTM_net class\n",
    "\n",
    "model = LSTM_net(INPUT_DIM, \n",
    "            EMBEDDING_DIM, \n",
    "            HIDDEN_DIM, \n",
    "            OUTPUT_DIM, \n",
    "            N_LAYERS, \n",
    "            BIDIRECTIONAL, \n",
    "            DROPOUT, \n",
    "            PAD_IDX)"
   ]
  },
  {
   "cell_type": "code",
   "execution_count": 22,
   "metadata": {},
   "outputs": [
    {
     "name": "stdout",
     "output_type": "stream",
     "text": [
      "torch.Size([7321, 100])\n"
     ]
    }
   ],
   "source": [
    "pretrained_embeddings = TEXT.vocab.vectors\n",
    "\n",
    "print(pretrained_embeddings.shape)\n",
    "#  to initiaise padded to zeros\n",
    "model.embedding.weight.data[PAD_IDX] = torch.zeros(EMBEDDING_DIM)"
   ]
  },
  {
   "cell_type": "code",
   "execution_count": 23,
   "metadata": {},
   "outputs": [],
   "source": [
    "# Sending the LSTM to GPU\n",
    "model.to(device) \n",
    "\n",
    "# Defining Loss and optimizer\n",
    "criterion = nn.BCEWithLogitsLoss()\n",
    "optimizer = torch.optim.Adam(model.parameters(), lr=learning_rate)"
   ]
  },
  {
   "cell_type": "code",
   "execution_count": 24,
   "metadata": {},
   "outputs": [],
   "source": [
    "def binary_accuracy(preds, y):\n",
    "    \"\"\"\n",
    "    Returns accuracy per batch or iterators\n",
    "    \"\"\"\n",
    "\n",
    "    #round predictions to the closest integer\n",
    "    rounded_preds = torch.round(torch.sigmoid(preds))\n",
    "    correct = (rounded_preds == y).float() #convert into float for division \n",
    "    acc = correct.sum() / len(correct)\n",
    "    return acc"
   ]
  },
  {
   "cell_type": "code",
   "execution_count": 25,
   "metadata": {},
   "outputs": [],
   "source": [
    "\n",
    "def train(model, iterator):\n",
    "    \"\"\"\n",
    "    Training function\n",
    "    model: The LSTM_net model defined above\n",
    "    iterator: train and validation iterators with batch sizes\n",
    "    \"\"\"\n",
    "    \n",
    "    epoch_loss = 0\n",
    "    epoch_acc = 0\n",
    "    \n",
    "    model.train()\n",
    "    \n",
    "    for batch in iterator:\n",
    "        text, text_lengths = batch.text\n",
    "        \n",
    "        optimizer.zero_grad()\n",
    "        predictions = model(text, text_lengths).squeeze(1)\n",
    "        loss = criterion(predictions, batch.category)\n",
    "        acc = binary_accuracy(predictions, batch.category)\n",
    "\n",
    "        loss.backward()\n",
    "        optimizer.step()\n",
    "        \n",
    "        epoch_loss += loss.item()\n",
    "        epoch_acc += acc.item()\n",
    "        \n",
    "\n",
    "    return epoch_loss / len(iterator), epoch_acc / len(iterator)\n"
   ]
  },
  {
   "cell_type": "code",
   "execution_count": 26,
   "metadata": {},
   "outputs": [],
   "source": [
    "def evaluate(model, iterator):\n",
    "    \"\"\"\n",
    "    Function for evaluation of the trained model\n",
    "    model: The LSTM_net model defined above\n",
    "    iterator: train and validation iterators with batch sizes\n",
    "    \"\"\"\n",
    "    \n",
    "    epoch_acc = 0\n",
    "    model.eval()\n",
    "    \n",
    "    with torch.no_grad():\n",
    "        for batch in iterator:\n",
    "            text, text_lengths = batch.text\n",
    "            predictions = model(text, text_lengths).squeeze(1)\n",
    "            acc = binary_accuracy(predictions, batch.category)\n",
    "            \n",
    "            epoch_acc += acc.item()\n",
    "        \n",
    "    return epoch_acc / len(iterator)\n"
   ]
  },
  {
   "cell_type": "code",
   "execution_count": 27,
   "metadata": {},
   "outputs": [
    {
     "name": "stdout",
     "output_type": "stream",
     "text": [
      "\tTrain Loss: 0.339 | Train Acc: 91.82%\n",
      "\t Val. Acc: 96.08%\n",
      "\tTrain Loss: 0.186 | Train Acc: 96.05%\n",
      "\t Val. Acc: 95.56%\n",
      "\tTrain Loss: 0.162 | Train Acc: 97.37%\n",
      "\t Val. Acc: 96.08%\n",
      "\tTrain Loss: 0.178 | Train Acc: 96.34%\n",
      "\t Val. Acc: 95.17%\n",
      "\tTrain Loss: 0.160 | Train Acc: 96.94%\n",
      "\t Val. Acc: 92.36%\n",
      "\tTrain Loss: 0.146 | Train Acc: 97.12%\n",
      "\t Val. Acc: 96.86%\n",
      "\tTrain Loss: 0.151 | Train Acc: 97.23%\n",
      "\t Val. Acc: 96.94%\n",
      "\tTrain Loss: 0.134 | Train Acc: 97.46%\n",
      "\t Val. Acc: 97.09%\n",
      "\tTrain Loss: 0.144 | Train Acc: 97.20%\n",
      "\t Val. Acc: 96.86%\n",
      "\tTrain Loss: 0.141 | Train Acc: 97.54%\n",
      "\t Val. Acc: 96.94%\n",
      "\tTrain Loss: 0.139 | Train Acc: 97.47%\n",
      "\t Val. Acc: 97.09%\n",
      "\tTrain Loss: 0.132 | Train Acc: 97.59%\n",
      "\t Val. Acc: 97.02%\n",
      "\tTrain Loss: 0.140 | Train Acc: 97.86%\n",
      "\t Val. Acc: 97.09%\n",
      "\tTrain Loss: 0.135 | Train Acc: 97.71%\n",
      "\t Val. Acc: 97.09%\n",
      "\tTrain Loss: 0.137 | Train Acc: 97.70%\n",
      "\t Val. Acc: 97.09%\n",
      "\tTrain Loss: 0.137 | Train Acc: 97.80%\n",
      "\t Val. Acc: 96.86%\n",
      "\tTrain Loss: 0.141 | Train Acc: 97.57%\n",
      "\t Val. Acc: 96.94%\n",
      "\tTrain Loss: 0.143 | Train Acc: 97.09%\n",
      "\t Val. Acc: 96.94%\n",
      "\tTrain Loss: 0.146 | Train Acc: 97.70%\n",
      "\t Val. Acc: 96.86%\n",
      "\tTrain Loss: 0.137 | Train Acc: 97.36%\n",
      "\t Val. Acc: 96.78%\n",
      "\tTrain Loss: 0.141 | Train Acc: 97.49%\n",
      "\t Val. Acc: 96.94%\n",
      "\tTrain Loss: 0.136 | Train Acc: 97.70%\n",
      "\t Val. Acc: 96.86%\n",
      "\tTrain Loss: 0.140 | Train Acc: 97.77%\n",
      "\t Val. Acc: 96.94%\n",
      "\tTrain Loss: 0.132 | Train Acc: 97.62%\n",
      "\t Val. Acc: 96.94%\n",
      "\tTrain Loss: 0.141 | Train Acc: 97.52%\n",
      "\t Val. Acc: 97.02%\n",
      "time:79.567\n"
     ]
    }
   ],
   "source": [
    "t = time.time()\n",
    "loss=[]\n",
    "acc=[]\n",
    "val_acc=[]\n",
    "\n",
    "# Running the model and logging the results\n",
    "for epoch in range(num_epochs):\n",
    "    \n",
    "    train_loss, train_acc = train(model, train_iter)\n",
    "    valid_acc = evaluate(model, valid_iter)\n",
    "    \n",
    "    print(f'\\tTrain Loss: {train_loss:.3f} | Train Acc: {train_acc*100:.2f}%')\n",
    "    print(f'\\t Val. Acc: {valid_acc*100:.2f}%')\n",
    "    \n",
    "    loss.append(train_loss)\n",
    "    acc.append(train_acc)\n",
    "    val_acc.append(valid_acc)\n",
    "    \n",
    "print(f'time:{time.time()-t:.3f}')"
   ]
  },
  {
   "cell_type": "markdown",
   "metadata": {},
   "source": [
    "## Hyperparameter tuning using Gaussian optimization\n",
    "### Building a structured system with the help of ignite library"
   ]
  },
  {
   "cell_type": "code",
   "execution_count": 28,
   "metadata": {},
   "outputs": [],
   "source": [
    "# # Defining configuration wrapped in hyperopt\n",
    "# model_space = {\n",
    "#     'hidden_dim': hp.quniform('hidden_dim', 200, 400, 56),\n",
    "#     'n_layers': hp.choice('n_layers', range(1, 5)),\n",
    "#     'bidirectional': hp.choice('bidirectional', [True, False]),\n",
    "#     'dropout': hp.uniform('dropout', 0, 1),\n",
    "\n",
    "# }\n",
    "\n",
    "# hyperopt.pyll.stochastic.sample(model_space)"
   ]
  },
  {
   "cell_type": "code",
   "execution_count": 29,
   "metadata": {},
   "outputs": [],
   "source": [
    "# def objective(params):\n",
    "#     \"\"\" \n",
    "#     Defining a function to be optimised by hyperopt\n",
    "#     \"\"\"\n",
    "    \n",
    "#     hidden_dim = int(params['hidden_dim'])\n",
    "#     n_layers = int(params['n_layers'])\n",
    "#     bidirectional = params['bidirectional']\n",
    "#     dropout = params['dropout']\n",
    "    \n",
    "#     # Defining the values of hyper-parameters which do not need tuning\n",
    "#     num_epochs = 25\n",
    "#     learning_rate = 0.001\n",
    "#     weight_decay = 1e-5\n",
    "#     vocab_size = len(TEXT.vocab)\n",
    "#     embedding_dim = 100\n",
    "#     output_dim = 1\n",
    "#     PAD_IDX = TEXT.vocab.stoi[TEXT.pad_token] # padding\n",
    "    \n",
    "#     #creating instance of our LSTM_net class\n",
    "#     model = LSTM_net(vocab_size, embedding_dim, hidden_dim, output_dim, n_layers, \n",
    "#                  bidirectional, dropout, PAD_IDX, pretrained_embeddings)\n",
    "        \n",
    "#     # Defining loss function and the optimizer\n",
    "#     criterion = nn.BCEWithLogitsLoss()\n",
    "#     optimizer = optim.Adam(model.parameters(), weight_decay=weight_decay, lr=learning_rate)\n",
    "    \n",
    "#     # Putting the model on GPU\n",
    "#     model.to(device)\n",
    "#     criterion.to(device)\n",
    "    \n",
    "#     # Switching to ignite library\n",
    "#     def process_function(engine, batch):\n",
    "        \n",
    "#         model.train()\n",
    "#         optimizer.zero_grad()\n",
    "#         x, text_length = batch.text\n",
    "#         y = batch.category\n",
    "# #         x.to(device)\n",
    "# #         y.to(device)\n",
    "#         y_pred = model(x)\n",
    "#         y_pred = y_pred.squeeze()\n",
    "#         loss = criterion(y_pred, y)\n",
    "#         loss.backward()\n",
    "#         optimizer.step()\n",
    "#         return loss.item()\n",
    "    \n",
    "#     def eval_function(engine, batch):\n",
    "#         model.eval()\n",
    "#         with torch.no_grad():\n",
    "#             x, text_length = batch.text\n",
    "#             y = batch.category\n",
    "#             y_pred = model(x)\n",
    "#             y_pred = y_pred.squeeze()\n",
    "#   \n",
    "#             return y_pred, y\n",
    "        \n",
    "#     # Loading Engines for train and validation datasets\n",
    "#     trainer = Engine(process_function)\n",
    "#     train_evaluator = Engine(eval_function)\n",
    "#     validation_evaluator = Engine(eval_function)\n",
    "    \n",
    "    \n",
    "#     def thresholded_output_transforms(output):\n",
    "#         y_pred, y = output\n",
    "# #         y_pred = y_pred.squeeze()\n",
    "\n",
    "#         y_pred = torch.round(y_pred)\n",
    "#         return y_pred, y\n",
    "    \n",
    "#     # Defining evaluation metrices for evaluation\n",
    "#     accuracy = Accuracy(output_transform=thresholded_output_transforms)\n",
    "#     precision = Precision(output_transform=thresholded_output_transforms, average=True)\n",
    "#     recall = Recall(output_transform=thresholded_output_transforms, average=True)\n",
    "    \n",
    "#     # Attaching the defined metrics to engine\n",
    "#     accuracy.attach(train_evaluator, 'accuracy')\n",
    "#     precision.attach(train_evaluator, 'precision')\n",
    "#     recall.attach(train_evaluator, 'recall')\n",
    "    \n",
    "#     accuracy.attach(validation_evaluator, 'accuracy')\n",
    "#     precision.attach(validation_evaluator, 'precision')\n",
    "#     recall.attach(validation_evaluator, 'recall')\n",
    "    \n",
    "#     # Creating a progress bar to show training\n",
    "#     pbar = ProgressBar(persist=True, bar_format=\"\")\n",
    "#     pbar.attach(trainer, ['loss'])\n",
    "    \n",
    "#     def score_function(engine):\n",
    "#         val_loss = engine.state.metrics['nll']\n",
    "#         return -val_loss\n",
    "    \n",
    "#     handler = EarlyStopping(patience=15, score_function=score_function, trainer=trainer)\n",
    "#     validation_evaluator.add_event_handler(Events.COMPLETED, handler)\n",
    "    \n",
    "    \n",
    "#     @trainer.on(Events.EPOCH_COMPLETED)\n",
    "#     def log_training_results(engine):\n",
    "        \n",
    "#         train_evaluator.run(train_iter)\n",
    "#         metrics = train_evaluator.state.metrics\n",
    "#         avg_accuracy = metrics['accuracy']\n",
    "#         avg_loss = metrics['nll']\n",
    "#         recall = metrics['recall']\n",
    "#         precision = metrics['precision']\n",
    "#         confusion_matrix = metrics['confusion_matrix']\n",
    "#         pbar.log_message(\n",
    "#         \"Training Results - Epoch: {} Avg accuracy: {:.2f} Avg loss: {:.2f}\"\n",
    "#         .format(engine.state.epoch, avg_accuracy, avg_loss))\n",
    "        \n",
    "\n",
    "#     @trainer.on(Events.EPOCH_COMPLETED)\n",
    "#     def log_validation_results(engine):\n",
    "        \n",
    "#         train_evaluator.run(train_iter)\n",
    "#         metrics = train_evaluator.state.metrics\n",
    "#         avg_accuracy = metrics['accuracy']\n",
    "#         avg_loss = metrics['nll']\n",
    "#         recall = metrics['recall']\n",
    "#         precision = metrics['precision']\n",
    "#         confusion_matrix = metrics['confusion_matrix']\n",
    "#         pbar.log_message(\n",
    "#         \"Validation Results - Epoch: {} Avg accuracy: {:.2f} Avg loss: {:.2f}\"\n",
    "#         .format(engine.state.epoch, avg_accuracy, avg_loss))\n",
    "#         pbar.n = pbar.last_print_n = 0\n",
    "        \n",
    "#     trainer.add_event_handler(Events.EPOCH_COMPLETED, log_validation_results)\n",
    "    \n",
    "#     def get_final_loss():\n",
    "            \n",
    "#         validation_evaluator.run(val_iter)\n",
    "#         metrics = validation_evaluator.state.metrics\n",
    "#         avg_loss = metrics['accuracy']\n",
    "#         return avg_loss\n",
    "    \n",
    "#     trainer.run(train_iter, max_epochs=5)\n",
    " \n",
    "#     return {'loss': get_final_loss(),\n",
    "#            'model': model.state_dict(),\n",
    "#            'status': STATUS_OK}"
   ]
  },
  {
   "cell_type": "code",
   "execution_count": 30,
   "metadata": {},
   "outputs": [],
   "source": [
    "# if __name__ == '__main__':\n",
    "    \n",
    "#     trials = Trials()\n",
    "#     best = fmin(objective, space=model_space, algo=tpe.suggest, max_evals=2, trials=trials)\n",
    "#     trained_model = trials.best_trial['result']['model']\n",
    "#     best_parameters = space_eval(model_space, best)\n",
    "    \n",
    "#     torch.save({'model_state_dict': trained_model,\n",
    "#               'model_config': best_parameters}\n",
    "#               )"
   ]
  },
  {
   "cell_type": "code",
   "execution_count": 109,
   "metadata": {},
   "outputs": [],
   "source": []
  },
  {
   "cell_type": "code",
   "execution_count": null,
   "metadata": {},
   "outputs": [],
   "source": []
  }
 ],
 "metadata": {
  "kernelspec": {
   "display_name": "Python 3",
   "language": "python",
   "name": "python3"
  },
  "language_info": {
   "codemirror_mode": {
    "name": "ipython",
    "version": 3
   },
   "file_extension": ".py",
   "mimetype": "text/x-python",
   "name": "python",
   "nbconvert_exporter": "python",
   "pygments_lexer": "ipython3",
   "version": "3.8.3"
  }
 },
 "nbformat": 4,
 "nbformat_minor": 4
}
